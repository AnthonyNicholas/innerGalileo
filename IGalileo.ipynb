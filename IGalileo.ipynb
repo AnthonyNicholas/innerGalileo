{
 "cells": [
  {
   "cell_type": "code",
   "execution_count": 1,
   "metadata": {},
   "outputs": [],
   "source": [
    "import glob"
   ]
  },
  {
   "cell_type": "code",
   "execution_count": 2,
   "metadata": {},
   "outputs": [
    {
     "name": "stdout",
     "output_type": "stream",
     "text": [
      "['data/time_in_heart_rate_zones-2020-07-10.json', 'data/heart_rate-2020-05-06.json', 'data/time_in_heart_rate_zones-2020-06-23.json', 'data/heart_rate-2020-05-01.json', 'data/heart_rate-2020-05-28.json', 'data/time_in_heart_rate_zones-2020-07-07.json', 'data/heart_rate-2020-04-23.json', 'data/time_in_heart_rate_zones-2020-06-29.json', 'data/heart_rate-2020-04-22.json', 'data/time_in_heart_rate_zones-2020-06-10.json', 'data/time_in_heart_rate_zones-2020-03-13.json', 'data/time_in_heart_rate_zones-2020-06-06.json', 'data/time_in_heart_rate_zones-2020-05-05.json', 'data/time_in_heart_rate_zones-2020-03-26.json', 'data/heart_rate-2020-06-16.json', 'data/time_in_heart_rate_zones-2020-03-22.json', 'data/time_in_heart_rate_zones-2020-06-25.json', 'data/time_in_heart_rate_zones-2020-05-29.json', 'data/lightly_active_minutes-2020-04-08.json', 'data/time_in_heart_rate_zones-2020-04-08.json', 'data/time_in_heart_rate_zones-2020-06-09.json', 'data/time_in_heart_rate_zones-2020-03-10.json', 'data/time_in_heart_rate_zones-2020-04-24.json', 'data/time_in_heart_rate_zones-2020-06-02.json', 'data/time_in_heart_rate_zones-2020-06-30.json', 'data/heart_rate-2020-07-06.json', 'data/time_in_heart_rate_zones-2020-04-21.json', 'data/heart_rate-2020-04-21.json', 'data/time_in_heart_rate_zones-2020-04-26.json', 'data/distance-2020-06-07.json', 'data/heart_rate-2020-04-29.json', 'data/heart_rate-2020-05-31.json', 'data/heart_rate-2020-04-28.json', 'data/heart_rate-2020-06-07.json', 'data/time_in_heart_rate_zones-2020-07-18.json', 'data/heart_rate-2020-05-18.json', 'data/calories-2020-04-08.json', 'data/sleep-2020-07-07.json', 'data/time_in_heart_rate_zones-2020-04-23.json', 'data/time_in_heart_rate_zones-2020-04-17.json', 'data/heart_rate-2020-07-02.json', 'data/time_in_heart_rate_zones-2020-06-17.json', 'data/time_in_heart_rate_zones-2020-07-13.json', 'data/steps-2020-06-07.json', 'data/heart_rate-2020-04-24.json', 'data/time_in_heart_rate_zones-2020-04-06.json', 'data/time_in_heart_rate_zones-2020-04-14.json', 'data/heart_rate-2020-07-10.json', 'data/heart_rate-2020-07-09.json', 'data/heart_rate-2020-03-22.json', 'data/lightly_active_minutes-2020-06-07.json', 'data/heart_rate-2020-07-05.json', 'data/heart_rate-2020-03-23.json', 'data/sleep-2020-06-07.json', 'data/heart_rate-2020-04-19.json', 'data/heart_rate-2020-04-12.json', 'data/time_in_heart_rate_zones-2020-05-20.json', 'data/heart_rate-2020-06-22.json', 'data/time_in_heart_rate_zones-2020-05-30.json', 'data/time_in_heart_rate_zones-2020-06-27.json', 'data/heart_rate-2020-05-26.json', 'data/time_in_heart_rate_zones-2020-06-15.json', 'data/time_in_heart_rate_zones-2020-05-08.json', 'data/heart_rate-2020-04-14.json', 'data/time_in_heart_rate_zones-2020-07-14.json', 'data/heart_rate-2020-06-08.json', 'data/heart_rate-2020-05-30.json', 'data/very_active_minutes-2020-06-07.json', 'data/heart_rate-2020-04-05.json', 'data/sedentary_minutes-2020-05-08.json', 'data/time_in_heart_rate_zones-2020-06-28.json', 'data/time_in_heart_rate_zones-2020-05-03.json', 'data/time_in_heart_rate_zones-2020-07-06.json', 'data/heart_rate-2020-05-03.json', 'data/heart_rate-2020-05-08.json', 'data/time_in_heart_rate_zones-2020-03-30.json', 'data/time_in_heart_rate_zones-2020-03-12.json', 'data/heart_rate-2020-05-09.json', 'data/heart_rate-2020-03-18.json', 'data/heart_rate-2020-06-30.json', 'data/heart_rate-2020-03-21.json', 'data/heart_rate-2020-06-23.json', 'data/heart_rate-2020-06-13.json', 'data/heart_rate-2020-07-01.json', 'data/run_vo2_max-2020-03-09.json', 'data/resting_heart_rate-2020-03-09.json', 'data/heart_rate-2020-03-11.json', 'data/time_in_heart_rate_zones-2020-03-23.json', 'data/time_in_heart_rate_zones-2020-05-04.json', 'data/heart_rate-2020-03-30.json', 'data/time_in_heart_rate_zones-2020-05-31.json', 'data/heart_rate-2020-06-12.json', 'data/heart_rate-2020-06-27.json', 'data/heart_rate-2020-05-22.json', 'data/heart_rate-2020-06-26.json', 'data/heart_rate-2020-05-19.json', 'data/heart_rate-2020-07-20.json', 'data/time_in_heart_rate_zones-2020-03-17.json', 'data/sedentary_minutes-2020-03-09.json', 'data/heart_rate-2020-03-17.json', 'data/time_in_heart_rate_zones-2020-05-14.json', 'data/heart_rate-2020-06-19.json', 'data/time_in_heart_rate_zones-2020-06-04.json', 'data/heart_rate-2020-04-06.json', 'data/time_in_heart_rate_zones-2020-04-02.json', 'data/heart_rate-2020-03-20.json', 'data/time_in_heart_rate_zones-2020-06-26.json', 'data/heart_rate-2020-05-05.json', 'data/time_in_heart_rate_zones-2020-05-17.json', 'data/heart_rate-2020-04-17.json', 'data/heart_rate-2020-04-27.json', 'data/heart_rate-2020-05-13.json', 'data/distance-2020-05-08.json', 'data/heart_rate-2020-04-11.json', 'data/time_in_heart_rate_zones-2020-05-23.json', 'data/time_in_heart_rate_zones-2020-03-27.json', 'data/heart_rate-2020-05-14.json', 'data/time_in_heart_rate_zones-2020-04-07.json', 'data/time_in_heart_rate_zones-2020-06-05.json', 'data/moderately_active_minutes-2020-04-08.json', 'data/very_active_minutes-2020-04-08.json', 'data/moderately_active_minutes-2020-05-08.json', 'data/heart_rate-2020-05-21.json', 'data/time_in_heart_rate_zones-2020-05-02.json', 'data/heart_rate-2020-03-10.json', 'data/time_in_heart_rate_zones-2020-03-31.json', 'data/time_in_heart_rate_zones-2020-06-07.json', 'data/time_in_heart_rate_zones-2020-06-13.json', 'data/time_in_heart_rate_zones-2020-04-15.json', 'data/heart_rate-2020-03-25.json', 'data/time_in_heart_rate_zones-2020-07-20.json', 'data/time_in_heart_rate_zones-2020-05-06.json', 'data/heart_rate-2020-03-14.json', 'data/calories-2020-06-07.json', 'data/heart_rate-2020-03-31.json', 'data/time_in_heart_rate_zones-2020-07-16.json', 'data/heart_rate-2020-06-03.json', 'data/heart_rate-2020-04-01.json', 'data/heart_rate-2020-04-16.json', 'data/time_in_heart_rate_zones-2020-06-08.json', 'data/heart_rate-2020-06-20.json', 'data/heart_rate-2020-05-12.json', 'data/time_in_heart_rate_zones-2020-07-05.json', 'data/heart_rate-2020-05-17.json', 'data/time_in_heart_rate_zones-2020-03-18.json', 'data/heart_rate-2020-04-04.json', 'data/time_in_heart_rate_zones-2020-05-19.json', 'data/heart_rate-2020-03-16.json', 'data/time_in_heart_rate_zones-2020-05-09.json', 'data/heart_rate-2020-06-10.json', 'data/heart_rate-2020-07-14.json', 'data/time_in_heart_rate_zones-2020-03-28.json', 'data/lightly_active_minutes-2020-05-08.json', 'data/time_in_heart_rate_zones-2020-03-20.json', 'data/time_in_heart_rate_zones-2020-05-11.json', 'data/heart_rate-2020-06-29.json', 'data/heart_rate-2020-04-18.json', 'data/lightly_active_minutes-2020-03-09.json', 'data/time_in_heart_rate_zones-2020-04-03.json', 'data/heart_rate-2020-03-27.json', 'data/lightly_active_minutes-2020-07-07.json', 'data/time_in_heart_rate_zones-2020-05-10.json', 'data/heart_rate-2020-06-11.json', 'data/time_in_heart_rate_zones-2020-07-02.json', 'data/heart_rate-2020-04-02.json', 'data/time_in_heart_rate_zones-2020-05-13.json', 'data/heart_rate-2020-04-09.json', 'data/time_in_heart_rate_zones-2020-06-18.json', 'data/very_active_minutes-2020-03-09.json', 'data/time_in_heart_rate_zones-2020-07-21.json', 'data/time_in_heart_rate_zones-2020-07-15.json', 'data/time_in_heart_rate_zones-2020-04-28.json', 'data/time_in_heart_rate_zones-2020-04-12.json', 'data/time_in_heart_rate_zones-2020-05-25.json', 'data/sleep-2020-04-08.json', 'data/heart_rate-2020-07-07.json', 'data/time_in_heart_rate_zones-2020-04-20.json', 'data/heart_rate-2020-05-27.json', 'data/time_in_heart_rate_zones-2020-07-17.json', 'data/heart_rate-2020-07-17.json', 'data/heart_rate-2020-07-19.json', 'data/sedentary_minutes-2020-06-07.json', 'data/exercise-0.json', 'data/heart_rate-2020-03-29.json', 'data/time_in_heart_rate_zones-2020-07-03.json', 'data/heart_rate-2020-06-04.json', 'data/steps-2020-04-08.json', 'data/time_in_heart_rate_zones-2020-03-25.json', 'data/demographic_vo2_max-2020-03-09.json', 'data/heart_rate-2020-06-17.json', 'data/time_in_heart_rate_zones-2020-05-24.json', 'data/heart_rate-2020-07-08.json', 'data/heart_rate-2020-07-12.json', 'data/very_active_minutes-2020-07-07.json', 'data/heart_rate-2020-04-30.json', 'data/time_in_heart_rate_zones-2020-06-16.json', 'data/time_in_heart_rate_zones-2020-04-16.json', 'data/distance-2020-04-08.json', 'data/heart_rate-2020-07-15.json', 'data/time_in_heart_rate_zones-2020-05-12.json', 'data/time_in_heart_rate_zones-2020-04-01.json', 'data/time_in_heart_rate_zones-2020-05-01.json', 'data/time_in_heart_rate_zones-2020-05-15.json', 'data/heart_rate-2020-04-08.json', 'data/distance-2020-03-09.json', 'data/heart_rate-2020-05-02.json', 'data/heart_rate-2020-06-09.json', 'data/heart_rate-2020-04-25.json', 'data/calories-2020-07-07.json', 'data/time_in_heart_rate_zones-2020-05-16.json', 'data/heart_rate-2020-04-20.json', 'data/heart_rate-2020-07-21.json', 'data/heart_rate-2020-03-24.json', 'data/calories-2020-03-09.json', 'data/heart_rate-2020-03-28.json', 'data/heart_rate-2020-05-07.json', 'data/time_in_heart_rate_zones-2020-07-12.json', 'data/time_in_heart_rate_zones-2020-06-01.json', 'data/time_in_heart_rate_zones-2020-04-05.json', 'data/heart_rate-2020-05-04.json', 'data/time_in_heart_rate_zones-2020-05-18.json', 'data/time_in_heart_rate_zones-2020-06-14.json', 'data/heart_rate-2020-04-07.json', 'data/time_in_heart_rate_zones-2020-03-14.json', 'data/heart_rate-2020-07-13.json', 'data/heart_rate-2020-04-03.json', 'data/time_in_heart_rate_zones-2020-03-21.json', 'data/heart_rate-2020-06-05.json', 'data/sedentary_minutes-2020-07-07.json', 'data/time_in_heart_rate_zones-2020-04-27.json', 'data/time_in_heart_rate_zones-2020-03-29.json', 'data/heart_rate-2020-06-15.json', 'data/heart_rate-2020-07-16.json', 'data/heart_rate-2020-05-15.json', 'data/time_in_heart_rate_zones-2020-04-22.json', 'data/time_in_heart_rate_zones-2020-06-19.json', 'data/very_active_minutes-2020-05-08.json', 'data/heart_rate-2020-06-01.json', 'data/steps-2020-07-07.json', 'data/sleep-2020-05-08.json', 'data/heart_rate-2020-05-29.json', 'data/time_in_heart_rate_zones-2020-03-16.json', 'data/time_in_heart_rate_zones-2020-07-09.json', 'data/calories-2020-05-08.json', 'data/heart_rate-2020-07-03.json', 'data/time_in_heart_rate_zones-2020-04-13.json', 'data/time_in_heart_rate_zones-2020-06-20.json', 'data/heart_rate-2020-05-20.json', 'data/heart_rate-2020-05-25.json', 'data/heart_rate-2020-07-11.json', 'data/time_in_heart_rate_zones-2020-07-01.json', 'data/heart_rate-2020-06-02.json', 'data/time_in_heart_rate_zones-2020-07-04.json', 'data/time_in_heart_rate_zones-2020-03-15.json', 'data/time_in_heart_rate_zones-2020-05-22.json', 'data/heart_rate-2020-05-23.json', 'data/moderately_active_minutes-2020-03-09.json', 'data/sleep-2020-03-09.json', 'data/heart_rate-2020-06-18.json', 'data/time_in_heart_rate_zones-2020-04-30.json', 'data/heart_rate-2020-06-24.json', 'data/heart_rate-2020-06-28.json', 'data/time_in_heart_rate_zones-2020-06-12.json', 'data/time_in_heart_rate_zones-2020-03-24.json', 'data/sedentary_minutes-2020-04-08.json', 'data/moderately_active_minutes-2020-06-07.json', 'data/time_in_heart_rate_zones-2020-04-25.json', 'data/time_in_heart_rate_zones-2020-04-11.json', 'data/time_in_heart_rate_zones-2020-04-04.json', 'data/moderately_active_minutes-2020-07-07.json', 'data/heart_rate-2020-04-10.json', 'data/time_in_heart_rate_zones-2020-05-26.json', 'data/heart_rate-2020-03-26.json', 'data/time_in_heart_rate_zones-2020-03-11.json', 'data/heart_rate-2020-07-18.json', 'data/heart_rate-2020-07-04.json', 'data/time_in_heart_rate_zones-2020-06-24.json', 'data/heart_rate-2020-04-15.json', 'data/time_in_heart_rate_zones-2020-05-21.json', 'data/time_in_heart_rate_zones-2020-03-19.json', 'data/heart_rate-2020-05-16.json', 'data/heart_rate-2020-03-12.json', 'data/heart_rate-2020-03-13.json', 'data/steps-2020-03-09.json', 'data/time_in_heart_rate_zones-2020-06-11.json', 'data/time_in_heart_rate_zones-2020-06-22.json', 'data/heart_rate-2020-06-14.json', 'data/time_in_heart_rate_zones-2020-04-19.json', 'data/time_in_heart_rate_zones-2020-07-08.json', 'data/heart_rate-2020-05-11.json', 'data/time_in_heart_rate_zones-2020-04-18.json', 'data/heart_rate-2020-06-21.json', 'data/heart_rate-2020-04-13.json', 'data/time_in_heart_rate_zones-2020-06-21.json', 'data/time_in_heart_rate_zones-2020-04-09.json', 'data/heart_rate-2020-05-24.json', 'data/heart_rate-2020-04-26.json', 'data/distance-2020-07-07.json', 'data/heart_rate-2020-05-10.json', 'data/time_in_heart_rate_zones-2020-07-19.json', 'data/time_in_heart_rate_zones-2020-05-27.json', 'data/steps-2020-05-08.json', 'data/heart_rate-2020-03-15.json', 'data/heart_rate-2020-06-25.json', 'data/time_in_heart_rate_zones-2020-07-11.json', 'data/time_in_heart_rate_zones-2020-05-07.json', 'data/heart_rate-2020-03-19.json', 'data/time_in_heart_rate_zones-2020-06-03.json', 'data/time_in_heart_rate_zones-2020-04-10.json', 'data/time_in_heart_rate_zones-2020-04-29.json', 'data/time_in_heart_rate_zones-2020-05-28.json', 'data/heart_rate-2020-06-06.json']\n"
     ]
    }
   ],
   "source": [
    "files = glob.glob('data/*.json')\n",
    "print(files)"
   ]
  },
  {
   "cell_type": "code",
   "execution_count": 3,
   "metadata": {},
   "outputs": [],
   "source": [
    "from utils import process_fitbit_sleep_data, process_fitbit_every_data"
   ]
  },
  {
   "cell_type": "code",
   "execution_count": 4,
   "metadata": {},
   "outputs": [],
   "source": [
    "#big_feature = process_fitbit_every_data(files)"
   ]
  },
  {
   "cell_type": "code",
   "execution_count": null,
   "metadata": {},
   "outputs": [],
   "source": []
  }
 ],
 "metadata": {
  "kernelspec": {
   "display_name": "Python 3",
   "language": "python",
   "name": "python3"
  },
  "language_info": {
   "codemirror_mode": {
    "name": "ipython",
    "version": 3
   },
   "file_extension": ".py",
   "mimetype": "text/x-python",
   "name": "python",
   "nbconvert_exporter": "python",
   "pygments_lexer": "ipython3",
   "version": "3.7.4"
  }
 },
 "nbformat": 4,
 "nbformat_minor": 2
}
