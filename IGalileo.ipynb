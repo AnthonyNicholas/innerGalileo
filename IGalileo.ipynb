{
 "cells": [
  {
   "cell_type": "code",
   "execution_count": 1,
   "metadata": {},
   "outputs": [],
   "source": [
    "import glob"
   ]
  },
  {
   "cell_type": "code",
   "execution_count": 2,
   "metadata": {},
   "outputs": [],
   "source": [
    "files = glob.glob('data/*.json')\n",
    "#print(files)"
   ]
  },
  {
   "cell_type": "code",
   "execution_count": 3,
   "metadata": {},
   "outputs": [],
   "source": [
    "from utils import process_fitbit_sleep_data, process_fitbit_other_data, visit_files"
   ]
  },
  {
   "cell_type": "code",
   "execution_count": 4,
   "metadata": {},
   "outputs": [],
   "source": [
    "list_of_lists = visit_files(files)\n",
    "big_feature = process_fitbit_other_data(list_of_lists)"
   ]
  },
  {
   "cell_type": "code",
   "execution_count": 5,
   "metadata": {},
   "outputs": [
    {
     "data": {
      "text/plain": [
       "dict_keys(['data/very_active_minutes-2020-05-08.json', 'data/very_active_minutes-2020-04-08.json', 'data/very_active_minutes-2020-07-07.json', 'data/very_active_minutes-2020-03-09.json', 'data/very_active_minutes-2020-06-07.json', 'data/moderately_active_minutes-2020-04-08.json', 'data/moderately_active_minutes-2020-05-08.json', 'data/moderately_active_minutes-2020-06-07.json', 'data/moderately_active_minutes-2020-03-09.json', 'data/moderately_active_minutes-2020-07-07.json', 'data/resting_heart_rate-2020-03-09.json'])"
      ]
     },
     "execution_count": 5,
     "metadata": {},
     "output_type": "execute_result"
    }
   ],
   "source": [
    "big_feature.keys()"
   ]
  },
  {
   "cell_type": "code",
   "execution_count": null,
   "metadata": {},
   "outputs": [],
   "source": []
  }
 ],
 "metadata": {
  "kernelspec": {
   "display_name": "Python 3",
   "language": "python",
   "name": "python3"
  },
  "language_info": {
   "codemirror_mode": {
    "name": "ipython",
    "version": 3
   },
   "file_extension": ".py",
   "mimetype": "text/x-python",
   "name": "python",
   "nbconvert_exporter": "python",
   "pygments_lexer": "ipython3",
   "version": "3.6.5"
  }
 },
 "nbformat": 4,
 "nbformat_minor": 2
}
